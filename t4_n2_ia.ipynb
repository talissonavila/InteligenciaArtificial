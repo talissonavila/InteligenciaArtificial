{
  "nbformat": 4,
  "nbformat_minor": 0,
  "metadata": {
    "colab": {
      "provenance": []
    },
    "kernelspec": {
      "name": "python3",
      "display_name": "Python 3"
    },
    "language_info": {
      "name": "python"
    }
  },
  "cells": [
    {
      "cell_type": "markdown",
      "source": [
        "**T4-N2 IA**\n",
        "\n",
        "1.    Implemente a RNA MLP com as seguintes saídas e entradas.\n",
        "      Entradas: [1 1 1; 0 1 1; 1 0 1; 1 1 0; 0 0 1; 0 1 0; 1 0 0; 0 0 0 ].Saída: [1; 1; 1; 1; 1; 1; 1; 0]. \n",
        "2.   Implemente a RNA MLP para a porta NAND com duas entradas e uma saída.\n",
        "3.   Implemente a RNA MLP para a porta NOR com duas entradas e uma saída?"
      ],
      "metadata": {
        "id": "tflP3jbN7WoC"
      }
    },
    {
      "cell_type": "markdown",
      "source": [
        "**QUESTÃO 1**"
      ],
      "metadata": {
        "id": "vCPColp07Re-"
      }
    },
    {
      "cell_type": "code",
      "execution_count": 160,
      "metadata": {
        "colab": {
          "base_uri": "https://localhost:8080/"
        },
        "id": "ERjqBVrO5cZY",
        "outputId": "a19de290-6107-491b-de63-c807e11de980"
      },
      "outputs": [
        {
          "output_type": "stream",
          "name": "stdout",
          "text": [
            "A base de entrada do teste foi: [1 1 1]. A predição de saída do algoritmo foi [1]. A saída esperada é [1].\n",
            "A base de entrada do teste foi: [1 1 0]. A predição de saída do algoritmo foi [1]. A saída esperada é [1].\n",
            "A base de entrada do teste foi: [1 0 1]. A predição de saída do algoritmo foi [1]. A saída esperada é [1].\n",
            "A base de entrada do teste foi: [1 0 0]. A predição de saída do algoritmo foi [1]. A saída esperada é [1].\n",
            "A base de entrada do teste foi: [0 1 1]. A predição de saída do algoritmo foi [1]. A saída esperada é [1].\n",
            "A base de entrada do teste foi: [0 1 0]. A predição de saída do algoritmo foi [1]. A saída esperada é [1].\n",
            "A base de entrada do teste foi: [0 0 1]. A predição de saída do algoritmo foi [1]. A saída esperada é [1].\n",
            "A base de entrada do teste foi: [0 0 0]. A predição de saída do algoritmo foi [0]. A saída esperada é [0].\n"
          ]
        }
      ],
      "source": [
        "import numpy as np\n",
        "\n",
        "np.random.seed(6)\n",
        "\n",
        "\n",
        "def sigmoid(x):\n",
        "    return 1 / (1 + np.exp(-x))\n",
        "\n",
        "\n",
        "def sigmoid_derivative(sx):\n",
        "    return sx * (1 - sx)\n",
        "\n",
        "\n",
        "def cost(predicted, truth):\n",
        "    return truth - predicted\n",
        "\n",
        "\n",
        "data_input = np.array([[1, 1, 1], [1, 1, 0], [1, 0, 1], [1, 0, 0], [0, 1, 1], [0, 1, 0], [0, 0, 1], [0, 0, 0]])\n",
        "data_output = np.array([[1, 1, 1, 1, 1, 1, 1, 0]]).T\n",
        "\n",
        "_temp = list(zip(data_input, data_output))\n",
        "np.random.shuffle(_temp)\n",
        "data_input_shuff, data_output_shuff = zip(*_temp)\n",
        "\n",
        "X = np.array(data_input_shuff)\n",
        "Y = np.array(data_output_shuff)\n",
        "\n",
        "num_data, input_dim = X.shape\n",
        "\n",
        "CONST_HIDDEN_DIMENSION = 5\n",
        "\n",
        "W1 = np.random.random((input_dim, CONST_HIDDEN_DIMENSION))\n",
        "\n",
        "output_dim = len(Y.T)\n",
        "\n",
        "W2 = np.random.random((CONST_HIDDEN_DIMENSION, output_dim))\n",
        "\n",
        "CONST_NUMBER_OF_EPOCHS = 10000\n",
        "CONST_LEARNING_RATE = 0.2\n",
        "\n",
        "for epoch_n in range(CONST_NUMBER_OF_EPOCHS):\n",
        "    layer0 = X\n",
        "\n",
        "    layer1 = sigmoid(np.dot(layer0, W1))\n",
        "    layer2 = sigmoid(np.dot(layer1, W2))\n",
        "\n",
        "\n",
        "    layer2_error = cost(layer2, Y)\n",
        "\n",
        "    layer2_delta = layer2_error * sigmoid_derivative(layer2)\n",
        "\n",
        "    layer1_error = np.dot(layer2_delta, W2.T)\n",
        "    layer1_delta = layer1_error * sigmoid_derivative(layer1)\n",
        "\n",
        "\n",
        "    W2 += CONST_LEARNING_RATE * np.dot(layer1.T, layer2_delta)\n",
        "    W1 += CONST_LEARNING_RATE * np.dot(layer0.T, layer1_delta)\n",
        "\n",
        "    EQM = (layer2_error / CONST_NUMBER_OF_EPOCHS) ** 2\n",
        "\n",
        "for x, y in zip(data_input, data_output):\n",
        "\n",
        "    layer1_prediction = sigmoid(np.dot(W1.T, x))\n",
        "    prediction = layer2_prediction = sigmoid(np.dot(W2.T, layer1_prediction))\n",
        "    print(f'A base de entrada do teste foi: {x}. A predição de saída do algoritmo foi [{int(prediction > 0.5)}]. A saída esperada é {y}.')\n",
        "\n",
        "    "
      ]
    },
    {
      "cell_type": "markdown",
      "source": [
        "**QUESTÃO 2**"
      ],
      "metadata": {
        "id": "btutclp07-Ud"
      }
    },
    {
      "cell_type": "code",
      "source": [
        "import numpy as np\n",
        "\n",
        "np.random.seed(6)\n",
        "\n",
        "\n",
        "def sigmoid(x):\n",
        "    return 1 / (1 + np.exp(-x))\n",
        "\n",
        "\n",
        "def sigmoid_derivative(sx):\n",
        "    return sx * (1 - sx)\n",
        "\n",
        "\n",
        "def cost(predicted, truth):\n",
        "    return truth - predicted\n",
        "\n",
        "\n",
        "nand_input = np.array([[0, 0], [0, 1], [1, 0], [1, 1]])\n",
        "nand_output = np.array([[1], [1], [1], [0]])\n",
        "\n",
        "_temp = list(zip(nand_input, nand_output))\n",
        "np.random.shuffle(_temp)\n",
        "nand_input_shuff, nand_output_shuff = zip(*_temp)\n",
        "\n",
        "X = np.array(nand_input_shuff)\n",
        "Y = np.array(nand_output_shuff)\n",
        "\n",
        "num_data, input_dim = X.shape\n",
        "CONST_HIDDEN_DIMENSION = 5\n",
        "output_dim = len(Y.T)\n",
        "\n",
        "W1 = np.random.random((input_dim, CONST_HIDDEN_DIMENSION))\n",
        "W2 = np.random.random((CONST_HIDDEN_DIMENSION, output_dim))\n",
        "\n",
        "CONST_NUMBER_OF_EPOCHS = 1000\n",
        "CONST_LEARNING_RATE = 0.2\n",
        "\n",
        "for epoch_n in range(CONST_NUMBER_OF_EPOCHS):\n",
        "    layer0 = X\n",
        "    layer1 = sigmoid(np.dot(layer0, W1))\n",
        "    layer2 = sigmoid(np.dot(layer1, W2))\n",
        "\n",
        "    layer2_error = cost(layer2, Y)\n",
        "    layer2_delta = layer2_error * sigmoid_derivative(layer2)\n",
        "\n",
        "    layer1_error = np.dot(layer2_delta, W2.T)\n",
        "    layer1_delta = layer1_error * sigmoid_derivative(layer1)\n",
        "\n",
        "    W2 += CONST_LEARNING_RATE * np.dot(layer1.T, layer2_delta)\n",
        "    W1 += CONST_LEARNING_RATE * np.dot(layer0.T, layer1_delta)\n",
        "\n",
        "    EQM = np.mean((layer2_error/CONST_NUMBER_OF_EPOCHS)**2)\n",
        "\n",
        "\n",
        "print(\"\\nTestando para a porta NAND\")\n",
        "for x, y in zip(nand_input, nand_output):\n",
        "    layer1_prediction = sigmoid(np.dot(x, W1))\n",
        "    prediction = sigmoid(np.dot(layer1_prediction, W2))\n",
        "    print(f'A base de entrada do teste foi: {x}. A predição de saída do algoritmo foi [{int(prediction > 0.5)}]. A saída esperada é {y}.')\n",
        "\n"
      ],
      "metadata": {
        "colab": {
          "base_uri": "https://localhost:8080/"
        },
        "id": "zHXI7O_H64l_",
        "outputId": "66c91271-28fb-4917-b060-bb597606e29c"
      },
      "execution_count": 161,
      "outputs": [
        {
          "output_type": "stream",
          "name": "stdout",
          "text": [
            "\n",
            "Testando para a porta NAND\n",
            "A base de entrada do teste foi: [0 0]. A predição de saída do algoritmo foi [1]. A saída esperada é [1].\n",
            "A base de entrada do teste foi: [0 1]. A predição de saída do algoritmo foi [1]. A saída esperada é [1].\n",
            "A base de entrada do teste foi: [1 0]. A predição de saída do algoritmo foi [1]. A saída esperada é [1].\n",
            "A base de entrada do teste foi: [1 1]. A predição de saída do algoritmo foi [0]. A saída esperada é [0].\n"
          ]
        }
      ]
    },
    {
      "cell_type": "markdown",
      "source": [
        "**QUESTÃO 3**"
      ],
      "metadata": {
        "id": "lVifx9Wv9XJD"
      }
    },
    {
      "cell_type": "code",
      "source": [
        "import numpy as np\n",
        "\n",
        "np.random.seed(6)\n",
        "\n",
        "\n",
        "def sigmoid(x):\n",
        "    return 1 / (1 + np.exp(-x))\n",
        "\n",
        "\n",
        "def sigmoid_derivative(sx):\n",
        "    return sx * (1 - sx)\n",
        "\n",
        "\n",
        "def cost(predicted, truth):\n",
        "    return truth - predicted\n",
        "\n",
        "\n",
        "nor_input = np.array([[0, 0], [0, 1], [1, 0], [1, 1]])\n",
        "nor_output = np.array([[1], [1], [1], [0]])\n",
        "\n",
        "_temp = list(zip(nor_input, nor_output))\n",
        "np.random.shuffle(_temp)\n",
        "nor_input_shuff, nor_output_shuff = zip(*_temp)\n",
        "\n",
        "X = np.array(nor_input_shuff)\n",
        "Y = np.array(nor_output_shuff)\n",
        "\n",
        "num_data, input_dim = X.shape\n",
        "CONST_HIDDEN_DIMENSION = 5\n",
        "output_dim = len(Y.T)\n",
        "\n",
        "W1 = np.random.random((input_dim, CONST_HIDDEN_DIMENSION))\n",
        "W2 = np.random.random((CONST_HIDDEN_DIMENSION, output_dim))\n",
        "\n",
        "CONST_NUMBER_OF_EPOCHS = 1000\n",
        "CONST_LEARNING_RATE = 0.2\n",
        "\n",
        "for epoch_n in range(CONST_NUMBER_OF_EPOCHS):\n",
        "    layer0 = X\n",
        "    layer1 = sigmoid(np.dot(layer0, W1))\n",
        "    layer2 = sigmoid(np.dot(layer1, W2))\n",
        "\n",
        "    layer2_error = cost(layer2, Y)\n",
        "    layer2_delta = layer2_error * sigmoid_derivative(layer2)\n",
        "\n",
        "    layer1_error = np.dot(layer2_delta, W2.T)\n",
        "    layer1_delta = layer1_error * sigmoid_derivative(layer1)\n",
        "\n",
        "    W2 += CONST_LEARNING_RATE * np.dot(layer1.T, layer2_delta)\n",
        "    W1 += CONST_LEARNING_RATE * np.dot(layer0.T, layer1_delta)\n",
        "\n",
        "    EQM = np.mean((layer2_error/CONST_NUMBER_OF_EPOCHS)**2)\n",
        "\n",
        "\n",
        "print(\"\\nTestando para a porta NOR\")\n",
        "for x, y in zip(nor_input, nor_output):\n",
        "    layer1_prediction = sigmoid(np.dot(x, W1))\n",
        "    prediction = sigmoid(np.dot(layer1_prediction, W2))\n",
        "    print(f'A base de entrada do teste foi: {x}. A predição de saída do algoritmo foi [{int(prediction > 0.5)}]. A saída esperada é {y}.')"
      ],
      "metadata": {
        "colab": {
          "base_uri": "https://localhost:8080/"
        },
        "id": "F3WU1VLp9Y6J",
        "outputId": "4813c8fd-5631-4bf3-eaff-6e3c5750ea17"
      },
      "execution_count": 162,
      "outputs": [
        {
          "output_type": "stream",
          "name": "stdout",
          "text": [
            "\n",
            "Testando para a porta NOR\n",
            "A base de entrada do teste foi: [0 0]. A predição de saída do algoritmo foi [1]. A saída esperada é [1].\n",
            "A base de entrada do teste foi: [0 1]. A predição de saída do algoritmo foi [1]. A saída esperada é [1].\n",
            "A base de entrada do teste foi: [1 0]. A predição de saída do algoritmo foi [1]. A saída esperada é [1].\n",
            "A base de entrada do teste foi: [1 1]. A predição de saída do algoritmo foi [0]. A saída esperada é [0].\n"
          ]
        }
      ]
    }
  ]
}