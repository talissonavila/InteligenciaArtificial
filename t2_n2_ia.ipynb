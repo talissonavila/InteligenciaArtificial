{
  "nbformat": 4,
  "nbformat_minor": 0,
  "metadata": {
    "colab": {
      "provenance": []
    },
    "kernelspec": {
      "name": "python3",
      "display_name": "Python 3"
    },
    "language_info": {
      "name": "python"
    }
  },
  "cells": [
    {
      "cell_type": "markdown",
      "source": [
        "**Questão 1**"
      ],
      "metadata": {
        "id": "b00tEXlriJ_o"
      }
    },
    {
      "cell_type": "code",
      "execution_count": 5,
      "metadata": {
        "id": "3dfZeBS9ykpp",
        "colab": {
          "base_uri": "https://localhost:8080/"
        },
        "outputId": "85dcbe4c-5182-401b-b5ee-66c8b28d3d6d"
      },
      "outputs": [
        {
          "output_type": "stream",
          "name": "stdout",
          "text": [
            "Entrada: [0 0].\n",
            "Saída Esperada: 1 | Saída do Modelo: 1\n",
            "\n",
            "Entrada: [0 1].\n",
            "Saída Esperada: 1 | Saída do Modelo: 1\n",
            "\n",
            "Entrada: [1 0].\n",
            "Saída Esperada: 1 | Saída do Modelo: 1\n",
            "\n",
            "Entrada: [1 1].\n",
            "Saída Esperada: 0 | Saída do Modelo: 0\n",
            "\n"
          ]
        }
      ],
      "source": [
        "import numpy as np\n",
        "\n",
        "\n",
        "def activate_function(value):\n",
        "    if value > 0:\n",
        "        return 1\n",
        "    else:\n",
        "        return 0\n",
        "\n",
        "\n",
        "def perceptron(value, weight, bias):\n",
        "    z = np.dot(value, weight) + bias\n",
        "    return activate_function(z)\n",
        "\n",
        "\n",
        "def train_perceptron(data_x_train, data_y_train, percent_learning_rate, trainning_sessions):\n",
        "\n",
        "    weight = np.random.rand(2)\n",
        "    bias = np.random.rand(1)\n",
        "\n",
        "    for count in range(trainning_sessions):\n",
        "        for input_data, output_expected in zip(data_x_train, data_y_train):\n",
        "            output_prediction = perceptron(input_data, weight, bias)\n",
        "\n",
        "            weight = weight + percent_learning_rate * (output_expected - output_prediction) * input_data\n",
        "            bias = bias + percent_learning_rate * (output_expected - output_prediction)\n",
        "\n",
        "    return weight, bias\n",
        "\n",
        "\n",
        "x_train = np.array([[0, 0], [0, 1], [1, 0], [1, 1]])\n",
        "y_train = np.array([1, 1, 1, 0])\n",
        "\n",
        "w, b = train_perceptron(data_x_train=x_train, data_y_train=y_train, percent_learning_rate=0.1, trainning_sessions=100)\n",
        "\n",
        "\n",
        "x_test = np.array([[0, 0], [0, 1], [1, 0], [1, 1]])\n",
        "y_test = np.array([1, 1, 1, 0])\n",
        "\n",
        "for x_i, y_true in zip(x_test, y_test):\n",
        "    y_pred = perceptron(x_i, w, b)\n",
        "    print(f'Entrada: {x_i}.\\nSaída Esperada: {y_true} | Saída do Modelo: {y_pred}\\n')\n"
      ]
    },
    {
      "cell_type": "markdown",
      "source": [
        "**Questão 2**"
      ],
      "metadata": {
        "id": "1CTjzAjAos8n"
      }
    },
    {
      "cell_type": "code",
      "source": [
        "import numpy as np\n",
        "\n",
        "\n",
        "def identity(value):\n",
        "    return value\n",
        "\n",
        "\n",
        "class Adaline:\n",
        "    def __init__(self, input_size, percent_learning_rate=0.01, trainning_sessions=100):\n",
        "        self.input_size = input_size\n",
        "        self.percent_learning_rate = percent_learning_rate\n",
        "        self.trainning_sessions = trainning_sessions\n",
        "        self.weights = np.random.rand(input_size)\n",
        "        self.bias = np.random.rand(1)\n",
        "\n",
        "    def forward(self, value):\n",
        "        z = np.dot(value, self.weights) + self.bias\n",
        "        return z\n",
        "\n",
        "    def backward(self, value, output_expected, output_prediction):\n",
        "        error = output_expected - output_prediction\n",
        "        d_weights = -2 * self.percent_learning_rate * error * value\n",
        "        d_bias = -2 * self.percent_learning_rate * error\n",
        "        return d_weights, d_bias\n",
        "\n",
        "    def train(self, data_x_train, data_y_train):\n",
        "        for epoch in range(self.trainning_sessions):\n",
        "            for input_data, output_expected in zip(data_x_train, data_y_train):\n",
        "                output_prediction = self.forward(input_data)\n",
        "                d_weights, d_bias = self.backward(input_data, output_expected, output_prediction)\n",
        "                self.weights = self.weights - d_weights\n",
        "                self.bias = self.bias - d_bias\n",
        "\n",
        "    def predict(self, value):\n",
        "        output_prediction = self.forward(value)\n",
        "        output_prediction = identity(output_prediction)\n",
        "        return output_prediction\n",
        "\n",
        "\n",
        "x_train = np.array([[0, 0], [0, 1], [1, 0], [1, 1]])\n",
        "y_train = np.array([1, 1, 1, 0])\n",
        "\n",
        "model = Adaline(input_size=2, percent_learning_rate=0.1, trainning_sessions=100)\n",
        "model.train(x_train, y_train)\n",
        "\n",
        "x_test = np.array([[0, 0], [0, 1], [1, 0], [1, 1]])\n",
        "y_test = np.array([1, 1, 1, 0])\n",
        "\n",
        "for x_i, y_true in zip(x_test, y_test):\n",
        "    y_pred = model.predict(x_i)\n",
        "    print(f'Entrada: {x_i}.\\nSaída Esperada: {y_true} | Saída do Modelo: {y_pred}\\n')\n"
      ],
      "metadata": {
        "colab": {
          "base_uri": "https://localhost:8080/"
        },
        "id": "tbSgRVHiow2J",
        "outputId": "00b7685b-4fd4-4ae6-97f8-7951dca1244d"
      },
      "execution_count": 6,
      "outputs": [
        {
          "output_type": "stream",
          "name": "stdout",
          "text": [
            "Entrada: [0 0].\n",
            "Saída Esperada: 1 | Saída do Modelo: [1.31249966]\n",
            "\n",
            "Entrada: [0 1].\n",
            "Saída Esperada: 1 | Saída do Modelo: [0.74999989]\n",
            "\n",
            "Entrada: [1 0].\n",
            "Saída Esperada: 1 | Saída do Modelo: [0.68749987]\n",
            "\n",
            "Entrada: [1 1].\n",
            "Saída Esperada: 0 | Saída do Modelo: [0.12500009]\n",
            "\n"
          ]
        }
      ]
    },
    {
      "cell_type": "markdown",
      "source": [
        "**Questão 3**"
      ],
      "metadata": {
        "id": "OmW--FLmiRVX"
      }
    },
    {
      "cell_type": "code",
      "source": [
        "import numpy as np\n",
        "\n",
        "\n",
        "def activate_function(value):\n",
        "    if value > 0:\n",
        "        return 1\n",
        "    else:\n",
        "        return 0\n",
        "\n",
        "\n",
        "def perceptron(value, weight, bias):\n",
        "    z = np.dot(value, weight) + bias\n",
        "    return activate_function(z)\n",
        "\n",
        "\n",
        "def train_perceptron(data_x_train: np.array, data_y_train: np.array, percent_learning_rate, trainning_sessions):\n",
        "\n",
        "    weight = np.random.rand(2)\n",
        "    bias = np.random.rand(1)\n",
        "\n",
        "    for count in range(trainning_sessions):\n",
        "        for input_data, output_expected in zip(data_x_train, data_y_train):\n",
        "            output_prediction = perceptron(input_data, weight, bias)\n",
        "\n",
        "            weight = weight + percent_learning_rate * (output_expected - output_prediction) * input_data\n",
        "            bias = bias + percent_learning_rate * (output_expected - output_prediction)\n",
        "\n",
        "    return weight, bias\n",
        "\n",
        "\n",
        "x_train = np.array([[0, 0], [0, 1], [1, 0], [1, 1]])\n",
        "y_train = np.array([1, 0, 0, 0])\n",
        "\n",
        "w, b = train_perceptron(data_x_train=x_train, data_y_train=y_train, percent_learning_rate=0.1, trainning_sessions=100)\n",
        "\n",
        "\n",
        "x_test = np.array([[0, 0], [0, 1], [1, 0], [1, 1]])\n",
        "y_test = np.array([1, 0, 0, 0])\n",
        "\n",
        "for x_i, y_true in zip(x_test, y_test):\n",
        "    y_pred = perceptron(x_i, w, b)\n",
        "    print(f'Entrada: {x_i}.\\nSaída Esperada: {y_true} | Saída do Modelo: {y_pred}\\n')\n"
      ],
      "metadata": {
        "colab": {
          "base_uri": "https://localhost:8080/"
        },
        "id": "J6hWo4Nly_vn",
        "outputId": "c453f08a-3b51-4ef8-d332-c20a70c6b5cd"
      },
      "execution_count": 3,
      "outputs": [
        {
          "output_type": "stream",
          "name": "stdout",
          "text": [
            "Entrada: [0 0].\n",
            "Saída Esperada: 1 | Saída do Modelo: 1\n",
            "\n",
            "Entrada: [0 1].\n",
            "Saída Esperada: 1 | Saída do Modelo: 1\n",
            "\n",
            "Entrada: [1 0].\n",
            "Saída Esperada: 1 | Saída do Modelo: 1\n",
            "\n",
            "Entrada: [1 1].\n",
            "Saída Esperada: 0 | Saída do Modelo: 0\n",
            "\n"
          ]
        }
      ]
    },
    {
      "cell_type": "markdown",
      "source": [
        "**Questão 4**"
      ],
      "metadata": {
        "id": "lxAo8TFMo2bc"
      }
    },
    {
      "cell_type": "code",
      "source": [
        "import numpy as np\n",
        "\n",
        "\n",
        "def identity(value):\n",
        "    return value\n",
        "\n",
        "\n",
        "class Adaline:\n",
        "    def __init__(self, input_size, percent_learning_rate=0.01, trainning_sessions=100):\n",
        "        self.input_size = input_size\n",
        "        self.percent_learning_rate = percent_learning_rate\n",
        "        self.trainning_sessions = trainning_sessions\n",
        "        self.weights = np.random.rand(input_size)\n",
        "        self.bias = np.random.rand(1)\n",
        "\n",
        "    def forward(self, value):\n",
        "        z = np.dot(value, self.weights) + self.bias\n",
        "        return z\n",
        "\n",
        "    def backward(self, value, output_expected, output_prediction):\n",
        "        error = output_expected - output_prediction\n",
        "        d_weights = -2 * self.percent_learning_rate * error * value\n",
        "        d_bias = -2 * self.percent_learning_rate * error\n",
        "        return d_weights, d_bias\n",
        "\n",
        "    def train(self, data_x_train, data_y_train):\n",
        "        for epoch in range(self.trainning_sessions):\n",
        "            for input_data, output_expected in zip(data_x_train, data_y_train):\n",
        "                output_prediction = self.forward(input_data)\n",
        "                d_weights, d_bias = self.backward(input_data, output_expected, output_prediction)\n",
        "                self.weights = self.weights - d_weights\n",
        "                self.bias = self.bias - d_bias\n",
        "\n",
        "    def predict(self, value):\n",
        "        output_prediction = self.forward(value)\n",
        "        output_prediction = identity(output_prediction)\n",
        "        return output_prediction\n",
        "\n",
        "\n",
        "x_train = np.array([[0, 0], [0, 1], [1, 0], [1, 1]])\n",
        "y_train = np.array([1, 0, 0, 0])\n",
        "\n",
        "model = Adaline(input_size=2, percent_learning_rate=0.1, trainning_sessions=100)\n",
        "model.train(x_train, y_train)\n",
        "\n",
        "x_test = np.array([[0, 0], [0, 1], [1, 0], [1, 1]])\n",
        "y_test = np.array([1, 0, 0, 0])\n",
        "\n",
        "for x_i, y_true in zip(x_test, y_test):\n",
        "    y_pred = model.predict(x_i)\n",
        "    print(f'Entrada: {x_i}.\\nSaída Esperada: {y_true} | Saída do Modelo: {y_pred}\\n')\n"
      ],
      "metadata": {
        "colab": {
          "base_uri": "https://localhost:8080/"
        },
        "id": "YE4di8OZo2yv",
        "outputId": "d0b9b787-a691-4c20-e385-b92f457a585e"
      },
      "execution_count": 7,
      "outputs": [
        {
          "output_type": "stream",
          "name": "stdout",
          "text": [
            "Entrada: [0 0].\n",
            "Saída Esperada: 1 | Saída do Modelo: [0.68749981]\n",
            "\n",
            "Entrada: [0 1].\n",
            "Saída Esperada: 0 | Saída do Modelo: [0.24999994]\n",
            "\n",
            "Entrada: [1 0].\n",
            "Saída Esperada: 0 | Saída do Modelo: [0.31249992]\n",
            "\n",
            "Entrada: [1 1].\n",
            "Saída Esperada: 0 | Saída do Modelo: [-0.12499995]\n",
            "\n"
          ]
        }
      ]
    }
  ]
}