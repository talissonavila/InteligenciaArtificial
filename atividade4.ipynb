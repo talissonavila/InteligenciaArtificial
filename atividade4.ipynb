{
  "cells": [
    {
      "cell_type": "code",
      "execution_count": null,
      "metadata": {
        "colab": {
          "base_uri": "https://localhost:8080/"
        },
        "id": "Ch_Ucf3Oaw52",
        "outputId": "222ff864-4c51-4424-c1b5-0848e2e53651"
      },
      "outputs": [],
      "source": [
        "# Questão 1\n",
        "# Código feito em python (usando colab)\n",
        "from scipy.spatial.distance import chebyshev, cityblock\n",
        "import numpy as np\n",
        "\n",
        "q1_a = (1, 3, 4, 5, 10)\n",
        "q1_b = (2, 11, 8, 9, 15)\n",
        "\n",
        "distancia_manhattan = cityblock(q1_a, q1_b)\n",
        "print(f'A distância manhattan entre o ponto A={q1_a} e o ponto B={q1_b} é igual a: {distancia_manhattan}.')\n",
        "\n",
        "euclidiano_ponto_a = np.array(q1_a)\n",
        "euclidiano_ponto_b = np.array(q1_b)\n",
        "\n",
        "distancia_euclidiana = np.linalg.norm(euclidiano_ponto_a - euclidiano_ponto_b)\n",
        "print(f'A distância euclidiana entre o ponto A={q1_a} e o ponto B={q1_b} é igual a: {distancia_euclidiana}.')\n",
        "\n",
        "\n",
        "distancia_chebyshev = chebyshev(q1_a, q1_b)\n",
        "print(f'A distância chebyshev entre o ponto A={q1_a} e o ponto B={q1_b} é igual a: {distancia_chebyshev}.')"
      ]
    },
    {
      "cell_type": "code",
      "execution_count": null,
      "metadata": {
        "colab": {
          "base_uri": "https://localhost:8080/"
        },
        "id": "65UkqUgyeWQ6",
        "outputId": "c3b14a59-d01f-49dc-82b5-db31ecde470f"
      },
      "outputs": [],
      "source": [
        "# Questão 2\n",
        "# Código feito em python (usando colab)\n",
        "import numpy as np\n",
        "from sklearn.model_selection import train_test_split, KFold\n",
        "questao2 = np.linspace(0, 10, num=500)\n",
        "\n",
        "# print(f'O vetor com 500 valores igualmente espaçados de 0 a 10 é:\\n{questao2}')\n",
        "np.random.shuffle(questao2)\n",
        "# print(f'O vetor após embaralhamento dos valores é:\\n{questao2}')\n",
        "\n",
        "kf = KFold(n_splits=5)\n",
        "\n",
        "\n",
        "\n",
        "print('K-Fold Validation; K=5')\n",
        "for count, (train, test) in enumerate(kf.split(questao2)):\n",
        "    print(f'Fold={count}')\n",
        "    print(f'Treino=\\n{questao2[train]}\\nTeste=\\n{questao2[test]}')\n",
        "\n",
        "print('\\n')\n",
        "\n",
        "X_train, X_test= train_test_split(questao2, train_size=0.8, test_size=0.2)\n",
        "print('Hold-Out Validation')\n",
        "print(f'Valores de Treino.\\n{X_train}')\n",
        "print(f'Valores de Teste.\\n{X_test}')\n",
        "\n",
        "\n",
        "\n"
      ]
    }
  ],
  "metadata": {
    "colab": {
      "provenance": []
    },
    "kernelspec": {
      "display_name": "Python 3",
      "name": "python3"
    },
    "language_info": {
      "codemirror_mode": {
        "name": "ipython",
        "version": 3
      },
      "file_extension": ".py",
      "mimetype": "text/x-python",
      "name": "python",
      "nbconvert_exporter": "python",
      "pygments_lexer": "ipython3",
      "version": "3.9.9"
    }
  },
  "nbformat": 4,
  "nbformat_minor": 0
}
